{
 "cells": [
  {
   "cell_type": "code",
   "execution_count": 1,
   "metadata": {},
   "outputs": [],
   "source": [
    "import os\n",
    "import json\n",
    "import numpy as np\n",
    "import pylab as pl\n",
    "import pandas as pd"
   ]
  },
  {
   "cell_type": "markdown",
   "metadata": {},
   "source": [
    "## Read-in the injections data"
   ]
  },
  {
   "cell_type": "code",
   "execution_count": 2,
   "metadata": {},
   "outputs": [],
   "source": [
    "with open('sky-maps/injections_params.json', 'r') as f:\n",
    "    data = json.load(f)"
   ]
  },
  {
   "cell_type": "code",
   "execution_count": 3,
   "metadata": {},
   "outputs": [],
   "source": [
    "df = pd.DataFrame(np.vstack((data['distance'], data['inclination'], data['latitude'],\n",
    "                            data['longitude'], data['mass1'], data['mass2'])).T,\n",
    "                  columns=data.keys())"
   ]
  },
  {
   "cell_type": "code",
   "execution_count": 4,
   "metadata": {},
   "outputs": [
    {
     "data": {
      "text/html": [
       "<div>\n",
       "<style scoped>\n",
       "    .dataframe tbody tr th:only-of-type {\n",
       "        vertical-align: middle;\n",
       "    }\n",
       "\n",
       "    .dataframe tbody tr th {\n",
       "        vertical-align: top;\n",
       "    }\n",
       "\n",
       "    .dataframe thead th {\n",
       "        text-align: right;\n",
       "    }\n",
       "</style>\n",
       "<table border=\"1\" class=\"dataframe\">\n",
       "  <thead>\n",
       "    <tr style=\"text-align: right;\">\n",
       "      <th></th>\n",
       "      <th>distance</th>\n",
       "      <th>inclination</th>\n",
       "      <th>latitude</th>\n",
       "      <th>longitude</th>\n",
       "      <th>mass1</th>\n",
       "      <th>mass2</th>\n",
       "    </tr>\n",
       "  </thead>\n",
       "  <tbody>\n",
       "    <tr>\n",
       "      <th>0</th>\n",
       "      <td>310.100739</td>\n",
       "      <td>1.554655</td>\n",
       "      <td>-0.323265</td>\n",
       "      <td>5.816187</td>\n",
       "      <td>1.380252</td>\n",
       "      <td>1.556046</td>\n",
       "    </tr>\n",
       "    <tr>\n",
       "      <th>1</th>\n",
       "      <td>527.647766</td>\n",
       "      <td>2.965359</td>\n",
       "      <td>-0.928418</td>\n",
       "      <td>0.620232</td>\n",
       "      <td>1.543831</td>\n",
       "      <td>1.477574</td>\n",
       "    </tr>\n",
       "    <tr>\n",
       "      <th>2</th>\n",
       "      <td>456.763123</td>\n",
       "      <td>1.703893</td>\n",
       "      <td>0.833210</td>\n",
       "      <td>2.677522</td>\n",
       "      <td>1.530253</td>\n",
       "      <td>1.433935</td>\n",
       "    </tr>\n",
       "    <tr>\n",
       "      <th>3</th>\n",
       "      <td>467.278473</td>\n",
       "      <td>0.983384</td>\n",
       "      <td>-1.127426</td>\n",
       "      <td>3.494067</td>\n",
       "      <td>1.528124</td>\n",
       "      <td>1.469073</td>\n",
       "    </tr>\n",
       "    <tr>\n",
       "      <th>4</th>\n",
       "      <td>447.092255</td>\n",
       "      <td>0.519305</td>\n",
       "      <td>0.462824</td>\n",
       "      <td>0.491720</td>\n",
       "      <td>1.659003</td>\n",
       "      <td>1.547893</td>\n",
       "    </tr>\n",
       "  </tbody>\n",
       "</table>\n",
       "</div>"
      ],
      "text/plain": [
       "     distance  inclination  latitude  longitude     mass1     mass2\n",
       "0  310.100739     1.554655 -0.323265   5.816187  1.380252  1.556046\n",
       "1  527.647766     2.965359 -0.928418   0.620232  1.543831  1.477574\n",
       "2  456.763123     1.703893  0.833210   2.677522  1.530253  1.433935\n",
       "3  467.278473     0.983384 -1.127426   3.494067  1.528124  1.469073\n",
       "4  447.092255     0.519305  0.462824   0.491720  1.659003  1.547893"
      ]
     },
     "execution_count": 4,
     "metadata": {},
     "output_type": "execute_result"
    }
   ],
   "source": [
    "df.head()"
   ]
  },
  {
   "cell_type": "markdown",
   "metadata": {},
   "source": [
    "### Given the parameters above, use the distances, and the current based known value of Hubble's constant $(H_0 = 67.8)$ to evaluate the redshift for each injection. Search the formula connecting the redhift and the distance online. Once you are able to get the redshift values, append them to a new file like `injections_params.json`, lets call it `injections_params_with_redhift.json` as a new column. These are going to be the true redshift of the sources. In reality there will be uncertainties in the redshift as well. But we can add that later. For now, lets just create a file with the redhift corresponding to every injection."
   ]
  },
  {
   "cell_type": "code",
   "execution_count": null,
   "metadata": {},
   "outputs": [],
   "source": []
  }
 ],
 "metadata": {
  "kernelspec": {
   "display_name": "summer20",
   "language": "python",
   "name": "summer20"
  },
  "language_info": {
   "codemirror_mode": {
    "name": "ipython",
    "version": 3
   },
   "file_extension": ".py",
   "mimetype": "text/x-python",
   "name": "python",
   "nbconvert_exporter": "python",
   "pygments_lexer": "ipython3",
   "version": "3.8.5"
  }
 },
 "nbformat": 4,
 "nbformat_minor": 4
}
